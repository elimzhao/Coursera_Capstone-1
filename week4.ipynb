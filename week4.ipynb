{
 "cells": [
  {
   "cell_type": "markdown",
   "metadata": {},
   "source": [
    "# Problem"
   ]
  },
  {
   "cell_type": "markdown",
   "metadata": {},
   "source": [
    "## Introduction/Business Problem\n",
    "Waves is a restaurent chain from New Delhi.They have really good food slong with  all type of drinks and also live music facility. You can request a song and they play it.They also has romantic and peacful environment. They have many restaurent in diifferent cities in India and also different countires. Now they want to extend there business in USA.\n",
    "\n",
    "Waves company want to open a new indian restaurent in New York City. But they do not know which area is good for opening it.Because  New york city has so many indian restaurent.\n",
    "They wanted to hire a data scientist, who can give them a good approach to deal with the problem and tell them which area is best for the restaurent. So they hired me as a data scientist and i am going to do data analysis which help them to find a better place for opening it."
   ]
  },
  {
   "cell_type": "markdown",
   "metadata": {},
   "source": [
    "# Data "
   ]
  },
  {
   "cell_type": "markdown",
   "metadata": {},
   "source": [
    "First we want the data of New York City locality, neighbourhoodsand restaurent. How mamy restaurents are in these areas,   which area has more and less indian restaurent.\n",
    "i will get the data from Foursquare API."
   ]
  },
  {
   "cell_type": "markdown",
   "metadata": {},
   "source": [
    "I can downoload the neighbourhood and borough data from https://geo.nyu.edu/catalog/nyu_2451_34572 , it provides names and latitude and longitude."
   ]
  },
  {
   "cell_type": "markdown",
   "metadata": {},
   "source": [
    "I can get venues data for a particular location using  the foursquare venue API. I will get following information from that API such as venue location , venue address, venue categories, venue names etc."
   ]
  },
  {
   "cell_type": "markdown",
   "metadata": {},
   "source": [
    "## Approach"
   ]
  },
  {
   "cell_type": "markdown",
   "metadata": {},
   "source": [
    "First i download data about New york city and restaurents. Then in 2nd step, i will arrange that data in structured form and  filter the data according to location ,locality,population and number of indian restaurent. Through data analysis i will find out how these restaurent are doing. For Example in terms of demand and suply of indian food. I will create clusters on the basis of number of restaurents in neighbourhoods. With the help of clustering i can easily find out which neighbourhood has less compition for restaurent bussiness. After clustering i plot these cluster on map , which can help my client in better understanding and visiualization. "
   ]
  },
  {
   "cell_type": "code",
   "execution_count": null,
   "metadata": {},
   "outputs": [],
   "source": []
  }
 ],
 "metadata": {
  "kernelspec": {
   "display_name": "Python",
   "language": "python",
   "name": "conda-env-python-py"
  },
  "language_info": {
   "codemirror_mode": {
    "name": "ipython",
    "version": 3
   },
   "file_extension": ".py",
   "mimetype": "text/x-python",
   "name": "python",
   "nbconvert_exporter": "python",
   "pygments_lexer": "ipython3",
   "version": "3.6.11"
  }
 },
 "nbformat": 4,
 "nbformat_minor": 4
}
