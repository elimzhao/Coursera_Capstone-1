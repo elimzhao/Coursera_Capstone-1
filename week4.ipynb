{
 "cells": [
  {
   "cell_type": "markdown",
   "metadata": {},
   "source": [
    "# Problem"
   ]
  },
  {
   "cell_type": "markdown",
   "metadata": {},
   "source": [
    "## Introduction/Business Problem\n",
    "Waves is a restaurent chain from New Delhi.They have really good food slong with  all type of drinks and also live music facility. You can request a song and they play it.They also has romantic and peacful environment. They have many restaurent in diifferent cities in India and also different countires. Now they want to extend there business in USA.\n",
    "\n",
    "Waves company want to open a new indian restaurent in New York City. But they do not know which area is good for opening it.Because  New york city has so many indian restaurent.\n",
    "They wanted to hire a data scientist, who can give them a good approach to deal with the problem and tell them which area is best for the restaurent. So they hired me as a data scientist and i am going to do data analysis which help them to find a better place for opening it."
   ]
  },
  {
   "cell_type": "markdown",
   "metadata": {},
   "source": [
    "# Data "
   ]
  },
  {
   "cell_type": "markdown",
   "metadata": {},
   "source": [
    "First we want the data of New York City locality, neighbourhoodsand restaurent. How mamy restaurents are in these areas,   which area has more and less indian restaurent.\n",
    "i will get the data from Foursquare API."
   ]
  },
  {
   "cell_type": "markdown",
   "metadata": {},
   "source": [
    "I can downoload the neighbourhood and borough data from https://geo.nyu.edu/catalog/nyu_2451_34572 , it provides names and latitude and longitude."
   ]
  },
  {
   "cell_type": "markdown",
   "metadata": {},
   "source": [
    "I can get venues data for a particular location using  the foursquare venue API. I will get following information from that API such as venue location , venue address, venue categories, venue names etc."
   ]
  },
  {
   "cell_type": "code",
   "execution_count": 1,
   "metadata": {},
   "outputs": [],
   "source": [
    "import pandas as pd # library for data analsysis"
   ]
  },
  {
   "cell_type": "code",
   "execution_count": 2,
   "metadata": {},
   "outputs": [
    {
     "name": "stdout",
     "output_type": "stream",
     "text": [
      "Your credentails:\n",
      "CLIENT_ID: 2BVQLADXQEEYCDWI1URSY0QP1UBVXSHLGIMH1CHYG3NRB4JL\n",
      "CLIENT_SECRET:MXJKJMYGMGINZNR3WOWX5MSRNSHIYQM2VSIXYJJXZ2NOCNQ0\n"
     ]
    }
   ],
   "source": [
    "CLIENT_ID = 'xx' # your Foursquare ID\n",
    "CLIENT_SECRET = 'xx' # your Foursquare Secret\n",
    "VERSION = '20180605' # Foursquare API version\n",
    "\n",
    "print('Your credentails:')\n",
    "print('CLIENT_ID: ' + CLIENT_ID)\n",
    "print('CLIENT_SECRET:' + CLIENT_SECRET)"
   ]
  },
  {
   "cell_type": "code",
   "execution_count": 3,
   "metadata": {},
   "outputs": [],
   "source": [
    "neighborhood_latitude, neighborhood_longitude = 40.87655077879964, -73.91065965862981"
   ]
  },
  {
   "cell_type": "code",
   "execution_count": 4,
   "metadata": {},
   "outputs": [
    {
     "data": {
      "text/plain": [
       "'https://api.foursquare.com/v2/venues/explore?client_id=2BVQLADXQEEYCDWI1URSY0QP1UBVXSHLGIMH1CHYG3NRB4JL&client_secret=MXJKJMYGMGINZNR3WOWX5MSRNSHIYQM2VSIXYJJXZ2NOCNQ0&ll=40.87655077879964,-73.91065965862981&v=20180605&radius=500&limit=100'"
      ]
     },
     "execution_count": 4,
     "metadata": {},
     "output_type": "execute_result"
    }
   ],
   "source": [
    "radius= 500\n",
    "LIMIT= 100\n",
    "url = 'https://api.foursquare.com/v2/venues/explore?client_id={}&client_secret={}&ll={},{}&v={}&radius={}&limit={}'.format(CLIENT_ID, CLIENT_SECRET, neighborhood_latitude, neighborhood_longitude, VERSION, radius, LIMIT)\n",
    "url\n"
   ]
  },
  {
   "cell_type": "code",
   "execution_count": 7,
   "metadata": {},
   "outputs": [
    {
     "data": {
      "text/plain": [
       "{'reasons': {'count': 0,\n",
       "  'items': [{'summary': 'This spot is popular',\n",
       "    'type': 'general',\n",
       "    'reasonName': 'globalInteractionReason'}]},\n",
       " 'venue': {'id': '4b4429abf964a52037f225e3',\n",
       "  'name': \"Arturo's\",\n",
       "  'location': {'address': '5198 Broadway',\n",
       "   'crossStreet': 'at 225th St.',\n",
       "   'lat': 40.87441177110231,\n",
       "   'lng': -73.91027100981574,\n",
       "   'labeledLatLngs': [{'label': 'display',\n",
       "     'lat': 40.87441177110231,\n",
       "     'lng': -73.91027100981574},\n",
       "    {'label': 'entrance', 'lat': 40.874401, 'lng': -73.910339}],\n",
       "   'distance': 240,\n",
       "   'postalCode': '10463',\n",
       "   'cc': 'US',\n",
       "   'city': 'New York',\n",
       "   'state': 'NY',\n",
       "   'country': 'United States',\n",
       "   'formattedAddress': ['5198 Broadway (at 225th St.)',\n",
       "    'New York, NY 10463',\n",
       "    'United States']},\n",
       "  'categories': [{'id': '4bf58dd8d48988d1ca941735',\n",
       "    'name': 'Pizza Place',\n",
       "    'pluralName': 'Pizza Places',\n",
       "    'shortName': 'Pizza',\n",
       "    'icon': {'prefix': 'https://ss3.4sqi.net/img/categories_v2/food/pizza_',\n",
       "     'suffix': '.png'},\n",
       "    'primary': True}],\n",
       "  'delivery': {'id': '72548',\n",
       "   'url': 'https://www.seamless.com/menu/arturos-pizza-5189-broadway-ave-new-york/72548?affiliate=1131&utm_source=foursquare-affiliate-network&utm_medium=affiliate&utm_campaign=1131&utm_content=72548',\n",
       "   'provider': {'name': 'seamless',\n",
       "    'icon': {'prefix': 'https://fastly.4sqi.net/img/general/cap/',\n",
       "     'sizes': [40, 50],\n",
       "     'name': '/delivery_provider_seamless_20180129.png'}}},\n",
       "  'photos': {'count': 0, 'groups': []}},\n",
       " 'referralId': 'e-0-4b4429abf964a52037f225e3-0'}"
      ]
     },
     "execution_count": 7,
     "metadata": {},
     "output_type": "execute_result"
    }
   ],
   "source": [
    "import requests # library to handle requests\n",
    "results = requests.get(url).json()\n",
    "results['response']['groups'][0]['items'][0]"
   ]
  },
  {
   "cell_type": "markdown",
   "metadata": {},
   "source": [
    "## Approach"
   ]
  },
  {
   "cell_type": "markdown",
   "metadata": {},
   "source": [
    "First i download data about New york city and restaurents. Then in 2nd step, i will arrange that data in structured form and  filter the data according to location ,locality,population and number of indian restaurent. Through data analysis i will find out how these restaurent are doing. For Example in terms of demand and suply of indian food. I will create clusters on the basis of number of restaurents in neighbourhoods. With the help of clustering i can easily find out which neighbourhood has less compition for restaurent bussiness. After clustering i plot these cluster on map , which can help my client in better understanding and visiualization. "
   ]
  }
 ],
 "metadata": {
  "kernelspec": {
   "display_name": "Python",
   "language": "python",
   "name": "conda-env-python-py"
  },
  "language_info": {
   "codemirror_mode": {
    "name": "ipython",
    "version": 3
   },
   "file_extension": ".py",
   "mimetype": "text/x-python",
   "name": "python",
   "nbconvert_exporter": "python",
   "pygments_lexer": "ipython3",
   "version": "3.6.11"
  }
 },
 "nbformat": 4,
 "nbformat_minor": 4
}
